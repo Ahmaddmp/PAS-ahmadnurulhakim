{
  "nbformat": 4,
  "nbformat_minor": 0,
  "metadata": {
    "colab": {
      "provenance": []
    },
    "kernelspec": {
      "name": "python3",
      "display_name": "Python 3"
    },
    "language_info": {
      "name": "python"
    }
  },
  "cells": [
    {
      "cell_type": "code",
      "execution_count": null,
      "metadata": {
        "colab": {
          "base_uri": "https://localhost:8080/"
        },
        "id": "3zBRVZvsu2aH",
        "outputId": "e4a602a2-a5ef-4085-c7df-c7cc52167efa"
      },
      "outputs": [
        {
          "output_type": "stream",
          "name": "stdout",
          "text": [
            "SOAL1\n",
            "setiap percobaan 1\n",
            "0.5\n",
            "0.3333333333333333\n",
            "0.6666666666666666\n",
            "0.8333333333333334\n",
            "1.0\n",
            "0.16666666666666666\n",
            "0.8333333333333334\n",
            "1.0\n",
            "0.5\n",
            "0.3333333333333333\n",
            "0.3333333333333333\n",
            "0.16666666666666666\n",
            "0.5\n",
            "0.16666666666666666\n",
            "0.8333333333333334\n",
            "jumlah semuanyah:8.166666666666666\n",
            "jumlah dadu <5 : 3.666666666666667\n",
            "\n",
            "Dua buah Dadu di lempar Secara Acak 20x Percobaan\n",
            "setiap percobaan2\n",
            "0.75\n",
            "0.9166666666666666\n",
            "0.25\n",
            "0.5\n",
            "0.16666666666666666\n",
            "0.3333333333333333\n",
            "0.75\n",
            "1.0\n",
            "0.8333333333333334\n",
            "0.6666666666666666\n",
            "0.16666666666666666\n",
            "0.5\n",
            "0.25\n",
            "0.3333333333333333\n",
            "0.75\n",
            "0.6666666666666666\n",
            "0.4166666666666667\n",
            "0.5\n",
            "0.9166666666666666\n",
            "0.8333333333333334\n",
            "jumlah semua:11.499999999999998\n",
            "Total pelemparan dadu yang memiliki nilai genap: 12.999999999999998\n",
            "\n"
          ]
        }
      ],
      "source": [
        "dadu = 6\n",
        "a1 = 3\n",
        "a2 = 2\n",
        "a3 = 4\n",
        "a4 = 5\n",
        "a6 = 6\n",
        "a7 = 1\n",
        "a8 = 5\n",
        "a9 = 6\n",
        "a10 = 3\n",
        "a11 = 2\n",
        "a12 = 2\n",
        "a13 = 1\n",
        "a14 = 3\n",
        "a15 = 1\n",
        "a16 = 5\n",
        "print(\"SOAL1\")\n",
        "print(\"setiap percobaan 1\")\n",
        "b1 = (a1/dadu)\n",
        "print(b1)\n",
        "b2 = (a2/dadu)\n",
        "print(b2)\n",
        "b3 = (a3/dadu)\n",
        "print(b3)\n",
        "b4 = (a4/dadu)\n",
        "print(b4)\n",
        "b6 = (a6/dadu)\n",
        "print(b6)\n",
        "b7 = (a7/dadu)\n",
        "print(b7)\n",
        "b8 = (a8/dadu)\n",
        "print(b8)\n",
        "b9 = (a9/dadu)\n",
        "print(b9)\n",
        "b10 = (a10/dadu)\n",
        "print(b10)\n",
        "b11 = (a11/dadu)\n",
        "print(b11)\n",
        "b12 = (a12/dadu)\n",
        "print(b12)\n",
        "b13 = (a13/dadu)\n",
        "print(b13)\n",
        "b14 = (a14/dadu)\n",
        "print(b14)\n",
        "b15 = (a15/dadu)\n",
        "print(b15)\n",
        "b16 = (a16/dadu)\n",
        "print(b16)\n",
        "hasil = (b1+b2+b3+b4+b6+b7+b8+b9+b10+b11+b12+b13+b14+b15+b16)\n",
        "print(\"jumlah semuanyah:\"+str (hasil))\n",
        "kurang = (b1+b2+b3+b7+b10+b11+b12+b13+b14+b15)\n",
        "print(\"jumlah dadu <5 : \" +str (kurang))\n",
        "print()\n",
        "print(\"Dua buah Dadu di lempar Secara Acak 20x Percobaan\")\n",
        "dd = 12\n",
        "\n",
        "d1 = 9\n",
        "d2 = 11\n",
        "d3 = 3\n",
        "d4 = 6\n",
        "d5 = 2\n",
        "d6 = 4\n",
        "d7 = 9\n",
        "d8 = 12\n",
        "d9 = 10\n",
        "d10 = 8\n",
        "d11 = 2\n",
        "d12 = 6\n",
        "d13 = 3\n",
        "d14 = 4\n",
        "d15 = 9\n",
        "d16 = 8\n",
        "d17 = 5\n",
        "d18 = 6\n",
        "d19 = 11\n",
        "d20 = 10\n",
        "\n",
        "print(\"setiap percobaan2\")\n",
        "c1 = (d1/dd)\n",
        "print(c1)\n",
        "c2 = (d2/dd)\n",
        "print(c2)\n",
        "c3 = (d3/dd)\n",
        "print(c3)\n",
        "c4 = (d4/dd)\n",
        "print(c4)\n",
        "c5 = (d5/dd)\n",
        "print(c5)\n",
        "c6 = (d6/dd)\n",
        "print(c6)\n",
        "c7 = (d7/dd)\n",
        "print(c7)\n",
        "c8 = (d8/dd)\n",
        "print(c8)\n",
        "c9 = (d9/dd)\n",
        "print(c9)\n",
        "c10 = (d10/dd)\n",
        "print(c10)\n",
        "c11 = (d11/dd)\n",
        "print(c11)\n",
        "c12 = (d12/dd)\n",
        "print(c12)\n",
        "c13 = (d13/dd)\n",
        "print(c13)\n",
        "c14 = (d14/dd)\n",
        "print(c14)\n",
        "c15 = (d15/dd)\n",
        "print(c15)\n",
        "c16 = (d16/dd)\n",
        "print(c16)\n",
        "c17 = (d17/dd)\n",
        "print(c17)\n",
        "c18 = (d18/dd)\n",
        "print(c18)\n",
        "c19 = (d19/dd)\n",
        "print(c19)\n",
        "c20 = (d20/dd)\n",
        "print(c20)\n",
        "hasil2 = (c1+c2+c3+c4+c5+c6+c7+c8+c9+c10+c11+c12+c13+c14+c15+c16+c17+c18+c19+c20)\n",
        "print(\"jumlah semua:\" + str(hasil2))\n",
        "z1 = (d4/6)\n",
        "z2 = (d5/6)\n",
        "z3 = (d6/6)\n",
        "z4 = (d8/6)\n",
        "z5 = (d9/6)\n",
        "z6 = (d10/6)\n",
        "z7 = (d11/6)\n",
        "z8 = (d12/6)\n",
        "z9 = (d14/6)\n",
        "z10 = (d16/6)\n",
        "z11 = (d18/6)\n",
        "z12 = (d20/6)\n",
        "\n",
        "hasilg = (z1+z2+z3+z4+z5+z6+z7+z8+z9+z10+z11+z12)\n",
        "print(\"Total pelemparan dadu yang memiliki nilai genap: \"+str(hasilg))\n",
        "print()\n",
        "\n"
      ]
    },
    {
      "cell_type": "code",
      "source": [
        "print(\"SOAL NO2\")\n",
        "\n",
        "m1 = 6560860\n",
        "m2 = 5950850\n",
        "m3 = 12685900\n",
        "m4 = 5768500\n",
        "m5 = 2989000\n",
        "m = (m1+m2+m3+m4+m5)\n",
        "print(\"minggu1: \"+str(m))\n",
        "mi1 = 8782150\n",
        "mi2 = 6620000\n",
        "mi3 = 5128750\n",
        "mi4 = 5217300\n",
        "mi5 = 4820600\n",
        "mi = (mi1+mi2+mi3+mi4+mi5)\n",
        "print(\"minggu2: \"+str(mi))\n",
        "mig1 = 8130940\n",
        "mig2 = 2940650\n",
        "mig3 = 3488200\n",
        "mig4 = 6930540\n",
        "mig5 = 4319260\n",
        "mig = (mig1+mig2+mig3+mig4+mig5)\n",
        "print(\"minggu3: \"+str(mig))\n",
        "migu1 = 12849100\n",
        "migu2 = 5752200\n",
        "migu3 = 5128400\n",
        "migu4 = 3880490\n",
        "migu5 = 4982100\n",
        "migu = (migu1+migu2+migu3+migu4+migu5)\n",
        "print(\"minggu4: \"+str(migu))\n",
        "print()\n",
        "import matplotlib.pyplot as plt\n",
        "fig = plt.figure()\n",
        "ax = fig.add_axes([0,0,1,1])\n",
        "jurusan = [\"minggu1\",\"minggu2\",\"minggu3\",\"minggu4\"]\n",
        "siswa = [33955110,30568800,25809590,32592290]\n",
        "c = ['red','yellow','blue','green']\n",
        "plt.title(\"pendapatan setiap minggu\")\n",
        "ax.bar(jurusan,siswa,color=c)\n",
        "plt.show()\n",
        "print()\n",
        "from sklearn.linear_model import LinearRegression"
      ],
      "metadata": {
        "colab": {
          "base_uri": "https://localhost:8080/",
          "height": 481
        },
        "id": "LiX9s9t3prC4",
        "outputId": "7cb6f793-2370-4ce5-d374-68c5fdc89389"
      },
      "execution_count": null,
      "outputs": [
        {
          "output_type": "stream",
          "name": "stdout",
          "text": [
            "SOAL NO2\n",
            "minggu1: 33955110\n",
            "minggu2: 30568800\n",
            "minggu3: 25809590\n",
            "minggu4: 32592290\n",
            "\n"
          ]
        },
        {
          "output_type": "display_data",
          "data": {
            "text/plain": [
              "<Figure size 432x288 with 1 Axes>"
            ],
            "image/png": "[encoded data removed]"
          },
          "metadata": {
            "needs_background": "light"
          }
        },
        {
          "output_type": "stream",
          "name": "stdout",
          "text": [
            "\n"
          ]
        }
      ]
    },
    {
      "cell_type": "code",
      "source": [
        "import numpy\n",
        "import matplotlib.pyplot as plt\n",
        "\n",
        "x = numpy.random.normal()\n",
        "y = numpy.random.normal[33955110,30568800,25809590,32592290]\n",
        "\n",
        "plt.scatter(x, y)\n",
        "plt.show()"
      ],
      "metadata": {
        "colab": {
          "base_uri": "https://localhost:8080/",
          "height": 246
        },
        "id": "_e3AJuEqp4x7",
        "outputId": "4e23b046-1e3f-477a-9f98-622258e74d6b"
      },
      "execution_count": 6,
      "outputs": [
        {
          "output_type": "error",
          "ename": "TypeError",
          "evalue": "ignored",
          "traceback": [
            "\u001b[0;31m---------------------------------------------------------------------------\u001b[0m",
            "\u001b[0;31mTypeError\u001b[0m                                 Traceback (most recent call last)",
            "\u001b[0;32m<ipython-input-6-64265a9208ce>\u001b[0m in \u001b[0;36m<module>\u001b[0;34m\u001b[0m\n\u001b[1;32m      3\u001b[0m \u001b[0;34m\u001b[0m\u001b[0m\n\u001b[1;32m      4\u001b[0m \u001b[0mx\u001b[0m \u001b[0;34m=\u001b[0m \u001b[0mnumpy\u001b[0m\u001b[0;34m.\u001b[0m\u001b[0mrandom\u001b[0m\u001b[0;34m.\u001b[0m\u001b[0mnormal\u001b[0m\u001b[0;34m(\u001b[0m\u001b[0;34m)\u001b[0m\u001b[0;34m\u001b[0m\u001b[0;34m\u001b[0m\u001b[0m\n\u001b[0;32m----> 5\u001b[0;31m \u001b[0my\u001b[0m \u001b[0;34m=\u001b[0m \u001b[0mnumpy\u001b[0m\u001b[0;34m.\u001b[0m\u001b[0mrandom\u001b[0m\u001b[0;34m.\u001b[0m\u001b[0mnormal\u001b[0m\u001b[0;34m[\u001b[0m\u001b[0;36m33955110\u001b[0m\u001b[0;34m,\u001b[0m\u001b[0;36m30568800\u001b[0m\u001b[0;34m,\u001b[0m\u001b[0;36m25809590\u001b[0m\u001b[0;34m,\u001b[0m\u001b[0;36m32592290\u001b[0m\u001b[0;34m]\u001b[0m\u001b[0;34m\u001b[0m\u001b[0;34m\u001b[0m\u001b[0m\n\u001b[0m\u001b[1;32m      6\u001b[0m \u001b[0;34m\u001b[0m\u001b[0m\n\u001b[1;32m      7\u001b[0m \u001b[0mplt\u001b[0m\u001b[0;34m.\u001b[0m\u001b[0mscatter\u001b[0m\u001b[0;34m(\u001b[0m\u001b[0mx\u001b[0m\u001b[0;34m,\u001b[0m \u001b[0my\u001b[0m\u001b[0;34m)\u001b[0m\u001b[0;34m\u001b[0m\u001b[0;34m\u001b[0m\u001b[0m\n",
            "\u001b[0;31mTypeError\u001b[0m: 'builtin_function_or_method' object is not subscriptable"
          ]
        }
      ]
    },
    {
      "cell_type": "code",
      "source": [
        "import matplotlib.pyplot as plt\n",
        "fig = plt.figure()\n",
        "ax = fig.add_axes([0,0,1,1])\n",
        "ax.axis('equal')\n",
        "plt.title(\"perminggu\")\n",
        "jurusan = [\"minggu1\",\"minggu2\",\"minggu3\",\"minggu4\"]\n",
        "siswa = [33955110,30568800,25809590,32592290]\n",
        "ax.pie(siswa,labels=jurusan,autopct='%1.2f%%')\n",
        "\n",
        "plt.show()"
      ],
      "metadata": {
        "colab": {
          "base_uri": "https://localhost:8080/",
          "height": 335
        },
        "id": "VPp3IyZTp7Pc",
        "outputId": "d2d59bdf-4ed0-40f7-b4c2-ad4d60255499"
      },
      "execution_count": null,
      "outputs": [
        {
          "output_type": "display_data",
          "data": {
            "text/plain": [
              "<Figure size 432x288 with 1 Axes>"
            ],
            "image/png": "[encoded data removed]"
          },
          "metadata": {}
        }
      ]
    }
  ]
}